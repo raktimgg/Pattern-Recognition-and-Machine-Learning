{
 "cells": [
  {
   "cell_type": "code",
   "execution_count": 1,
   "metadata": {},
   "outputs": [],
   "source": [
    "import numpy as np\n",
    "import matplotlib.pyplot as plt"
   ]
  },
  {
   "cell_type": "code",
   "execution_count": 2,
   "metadata": {},
   "outputs": [
    {
     "data": {
      "image/png": "[encoded data removed]",
      "text/plain": [
       "<Figure size 432x288 with 1 Axes>"
      ]
     },
     "metadata": {
      "needs_background": "light"
     },
     "output_type": "display_data"
    }
   ],
   "source": [
    "# Generating the data points\n",
    "mu1 = np.array([-1.5,-1.25])\n",
    "mu2 = np.array([1.0,0.5])\n",
    "cov1 = np.array([[0.5,0],[0,0.5]])\n",
    "cov2 = np.array([[0.5,0],[0,0.5]])\n",
    "data1 = np.random.multivariate_normal(mu1,cov1,50)\n",
    "data2 = np.random.multivariate_normal(mu2,cov2,50)\n",
    "# Plotting the data points\n",
    "plt.scatter(data1[:,0],data1[:,1],color = 'purple')\n",
    "plt.scatter(data2[:,0],data2[:,1],color = 'yellow')\n",
    "plt.show()"
   ]
  },
  {
   "cell_type": "code",
   "execution_count": null,
   "metadata": {},
   "outputs": [],
   "source": []
  },
  {
   "cell_type": "code",
   "execution_count": 3,
   "metadata": {},
   "outputs": [
    {
     "name": "stdout",
     "output_type": "stream",
     "text": [
      "Mean = [-1.51753739 -1.26867316]\n",
      "Covariance =\n",
      "[[0.42956086 0.01650969]\n",
      " [0.01650969 0.51635408]]\n"
     ]
    }
   ],
   "source": [
    "# Gaussian MLE estimate\n",
    "# For purple set of points\n",
    "m1 = np.sum(data1,axis = 0)/data1.shape[0]\n",
    "v1 = np.zeros([m1.shape[0],m1.shape[0]])\n",
    "for i in range(0,data1.shape[0]):\n",
    "    temp = data1[i]-m1\n",
    "    temp = np.reshape(temp,[1,temp.shape[0]])\n",
    "    v1+=temp.T@temp\n",
    "v1 = v1/data1.shape[0]\n",
    "print(\"Mean =\",m1)\n",
    "print(\"Covariance =\")\n",
    "print(v1)"
   ]
  },
  {
   "cell_type": "code",
   "execution_count": 4,
   "metadata": {},
   "outputs": [
    {
     "name": "stdout",
     "output_type": "stream",
     "text": [
      "Mean = [0.99338155 0.48882961]\n",
      "Covariance =\n",
      "[[0.55170443 0.13966743]\n",
      " [0.13966743 0.57992579]]\n"
     ]
    }
   ],
   "source": [
    "# Gaussian MLE estimate\n",
    "# For yellow set of points\n",
    "m2 = np.sum(data2,axis = 0)/data2.shape[0]\n",
    "v2 = np.zeros([m2.shape[0],m2.shape[0]])\n",
    "for i in range(0,data2.shape[0]):\n",
    "    temp = data2[i]-m2\n",
    "    temp = np.reshape(temp,[1,temp.shape[0]])\n",
    "    v2+=temp.T@temp\n",
    "v2 = v2/data2.shape[0]\n",
    "print(\"Mean =\",m2)\n",
    "print(\"Covariance =\")\n",
    "print(v2)"
   ]
  },
  {
   "cell_type": "code",
   "execution_count": 5,
   "metadata": {},
   "outputs": [],
   "source": [
    "def gaus1(x):\n",
    "    res = (1/(np.sqrt(2*np.pi)*np.linalg.det(v1)))*np.exp(-0.5*(x-m1).T@np.linalg.inv(v1)@(x-m1))\n",
    "    return res"
   ]
  },
  {
   "cell_type": "code",
   "execution_count": 6,
   "metadata": {},
   "outputs": [],
   "source": [
    "def gaus2(x):\n",
    "    res = (1/(np.sqrt(2*np.pi)*np.linalg.det(v2)))*np.exp(-0.5*(x-m2).T@np.linalg.inv(v2)@(x-m2))\n",
    "    return res"
   ]
  },
  {
   "cell_type": "code",
   "execution_count": 7,
   "metadata": {},
   "outputs": [
    {
     "data": {
      "image/png": "[encoded data removed]",
      "text/plain": [
       "<Figure size 432x288 with 1 Axes>"
      ]
     },
     "metadata": {
      "needs_background": "light"
     },
     "output_type": "display_data"
    }
   ],
   "source": [
    "# Creating the unlabeled new data points\n",
    "xt = np.random.uniform(low = -3,high = 2,size = 10)\n",
    "yt = np.random.uniform(low = -2.5,high = 1.5,size = 10)\n",
    "plt.scatter(xt,yt,label = 'Unlabeled data')\n",
    "plt.legend()\n",
    "plt.show()"
   ]
  },
  {
   "cell_type": "code",
   "execution_count": 8,
   "metadata": {},
   "outputs": [
    {
     "name": "stdout",
     "output_type": "stream",
     "text": [
      "The points after classification are\n"
     ]
    },
    {
     "data": {
      "image/png": "[encoded data removed]",
      "text/plain": [
       "<Figure size 432x288 with 1 Axes>"
      ]
     },
     "metadata": {
      "needs_background": "light"
     },
     "output_type": "display_data"
    }
   ],
   "source": [
    "# Predicting the new data points as purple or yellow\n",
    "res1 = []\n",
    "res2 = []\n",
    "for i in range(0,xt.shape[0]):\n",
    "    if(gaus1([xt[i],yt[i]])>gaus2([xt[i],yt[i]])):\n",
    "        res1.append([xt[i],yt[i]])\n",
    "    else:\n",
    "        res2.append([xt[i],yt[i]])\n",
    "res1 = np.array(res1)\n",
    "res2 = np.array(res2)\n",
    "print(\"The points after classification are\")\n",
    "plt.scatter(res1[:,0],res1[:,1],color = 'purple')\n",
    "plt.scatter(res2[:,0],res2[:,1],color = 'yellow')\n",
    "plt.show()"
   ]
  }
 ],
 "metadata": {
  "kernelspec": {
   "display_name": "Python 3",
   "language": "python",
   "name": "python3"
  },
  "language_info": {
   "codemirror_mode": {
    "name": "ipython",
    "version": 3
   },
   "file_extension": ".py",
   "mimetype": "text/x-python",
   "name": "python",
   "nbconvert_exporter": "python",
   "pygments_lexer": "ipython3",
   "version": "3.7.5"
  }
 },
 "nbformat": 4,
 "nbformat_minor": 4
}
